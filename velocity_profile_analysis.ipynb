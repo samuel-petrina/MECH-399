{
 "cells": [
  {
   "cell_type": "code",
   "execution_count": 3,
   "id": "6ee26585",
   "metadata": {},
   "outputs": [
    {
     "name": "stdout",
     "output_type": "stream",
     "text": [
      "General data\n",
      "Air density: 1.2097+/-0.0007\n",
      "Air viscosity: (1.8317+/-0.0005)e-05\n",
      "Pipe area:  0.00283+/-0.00009\n",
      "-------------------------\n",
      "stream profile 1.csv\n",
      "Average velocity [m/s]: 5.9+/-0.7\n",
      "Reynolds number: (2.35+/-0.26)e+04\n",
      "Flow rate [m^3/s]: 0.0168+/-0.0018\n",
      "-------------------------\n",
      "stream profile 2.csv\n",
      "Average velocity [m/s]: 6.9+/-0.7\n",
      "Reynolds number: (2.72+/-0.28)e+04\n",
      "Flow rate [m^3/s]: 0.0194+/-0.0020\n"
     ]
    },
    {
     "data": {
      "image/png": "[encoded data removed]",
      "text/plain": [
       "<Figure size 432x288 with 1 Axes>"
      ]
     },
     "metadata": {
      "needs_background": "light"
     },
     "output_type": "display_data"
    },
    {
     "data": {
      "image/png": "[encoded data removed]",
      "text/plain": [
       "<Figure size 432x288 with 1 Axes>"
      ]
     },
     "metadata": {
      "needs_background": "light"
     },
     "output_type": "display_data"
    }
   ],
   "source": [
    "import numpy as np\n",
    "import matplotlib.pyplot as plt\n",
    "\n",
    "from uncertainties import ufloat\n",
    "from uncertainties import unumpy\n",
    "\n",
    "#atmospheric conditions\n",
    "air_temp = ufloat(23.8+273,0.1)\n",
    "air_pressure = ufloat(1030.4*100,0.5*100)\n",
    "\n",
    "#constants for mu calculations\n",
    "t0 = 273\n",
    "mu0 = 1.716e-5\n",
    "smu = 111\n",
    "\n",
    "#calculations for key air properties\n",
    "rho = (air_pressure*0.02897)/(8.314*air_temp)\n",
    "mu = mu0*(air_temp/t0)**(3/2)*((t0+smu)/(air_temp+smu))\n",
    "\n",
    "#information about velocity profile sweep\n",
    "dr = ufloat(1/1000,0.1/1000) #step size \n",
    "pipe_radius = ufloat(30/1000,0.5/1000) #pipe radius (larger then 2\" due to flange) \n",
    "\n",
    "pipe_area = (3.1416)*pipe_radius**2\n",
    "\n",
    "print(\"General data\")\n",
    "print(\"Air density:\", rho)\n",
    "print(\"Air viscosity:\", mu)\n",
    "print(\"Pipe area: \", pipe_area)\n",
    "\n",
    "files = [\"stream profile 1.csv\", \"stream profile 2.csv\"]\n",
    "\n",
    "for file in files:\n",
    "\n",
    "    \n",
    "    data = np.genfromtxt(file, delimiter=',')\n",
    "    \n",
    "    position = data[:,0] #extract position\n",
    "    pressure = data[:,1] #extract pressure\n",
    "    pressure_uncertainty = data[:,2] #extract pressure uncertainty\n",
    "    \n",
    "    pressure = unumpy.uarray(pressure, pressure_uncertainty) #add uncertainty data\n",
    "    pressure = pressure*(248.84) #convert from cm-water to Pa\n",
    "      \n",
    "    velocity = unumpy.sqrt(2*pressure/rho) #calculate stream velocity from pressure\n",
    "    \n",
    "    # integrate using trapazoidal method to find volumetric flow rate -----------------------\n",
    "    \n",
    "    flow_rate = dr*velocity*abs(position)*(3.1416)/2\n",
    "    \n",
    "    flow_rate = np.sum(flow_rate) + np.sum(flow_rate[1:-1])\n",
    "    \n",
    "    # done integration -----------------------------------------------------------------------\n",
    "    \n",
    "    average_velocity = flow_rate/pipe_area #calculate average velocity\n",
    "    Re = rho*average_velocity*2*pipe_radius/mu\n",
    "    \n",
    "    # output ---------------------------------------------------------------------------------\n",
    "    \n",
    "    plt.figure(file)\n",
    "    plt.plot(position, unumpy.nominal_values(velocity), '.')\n",
    "    plt.axhline(y=(average_velocity.nominal_value), color='r', linestyle='-')\n",
    "    plt.xlabel(\"Position relative to centre [m]\")\n",
    "    plt.ylabel(\"Flow velocity [m/s]\")\n",
    "    \n",
    "    \n",
    "    print(\"-------------------------\")\n",
    "    print(file)\n",
    "    print(\"Average velocity [m/s]:\", average_velocity)\n",
    "    print(\"Reynolds number:\", Re)\n",
    "    print(\"Flow rate [m^3/s]:\", flow_rate)"
   ]
  },
  {
   "cell_type": "code",
   "execution_count": null,
   "id": "e4e6bf93",
   "metadata": {},
   "outputs": [],
   "source": []
  }
 ],
 "metadata": {
  "kernelspec": {
   "display_name": "Python 3 (ipykernel)",
   "language": "python",
   "name": "python3"
  },
  "language_info": {
   "codemirror_mode": {
    "name": "ipython",
    "version": 3
   },
   "file_extension": ".py",
   "mimetype": "text/x-python",
   "name": "python",
   "nbconvert_exporter": "python",
   "pygments_lexer": "ipython3",
   "version": "3.9.12"
  }
 },
 "nbformat": 4,
 "nbformat_minor": 5
}
